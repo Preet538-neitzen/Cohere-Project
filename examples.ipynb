{
 "cells": [
  {
   "cell_type": "code",
   "execution_count": 1,
   "metadata": {
    "collapsed": false
   },
   "outputs": [],
   "source": [
    "from __future__ import (absolute_import, division, print_function, unicode_literals)\n",
    "from builtins import *\n",
    "\n",
    "import cpd\n",
    "from cpd.cpd_r import *\n",
    "from cpd.cpd_plot import cpd_plot\n",
    "import scipy.io\n",
    "import time"
   ]
  },
  {
   "cell_type": "markdown",
   "metadata": {},
   "source": [
    "There are some examples of how cpd deals with different datasets. Actually, this algorithm works for rigid,affine,and nonrigid cases(each case includes 2d and 3d datasets). This test file only give example of 3d dataset, for 2d dataset,you can solve it by just change your dataPath. What's more, for non_rigid and rigid cases, I didn't give an example when outliers occurs. However, I gave an example of how **register_affine** deals with outliers, you can refer to this and write your non_rigid and rigid test examples. "
   ]
  },
  {
   "cell_type": "markdown",
   "metadata": {},
   "source": [
    "## test non_rigid case"
   ]
  },
  {
   "cell_type": "code",
   "execution_count": 2,
   "metadata": {
    "collapsed": true
   },
   "outputs": [],
   "source": [
    "dataPath='/cpd/datasets/cpd_data3D_face.mat'\n",
    "data=scipy.io.loadmat(dataPath)\n",
    "X=data['X']\n",
    "Y=data['Y']\n",
    "# np.save(\"cpd/tests/data/nonrigid_X\", X)\n",
    "# np.save(\"cpd/tests/data/nonrigid_Y\", Y)"
   ]
  },
  {
   "cell_type": "code",
   "execution_count": 3,
   "metadata": {
    "collapsed": false
   },
   "outputs": [
    {
     "name": "stdout",
     "output_type": "stream",
     "text": [
      "The whole process costs 0.335000038147 seconds\n"
     ]
    }
   ],
   "source": [
    "now=time.time()\n",
    "T=cpd.register_nonrigid(X,Y,0.0,lamb=3.0,beta=2.0)\n",
    "# np.save(\"cpd/tests/data/nonrigid_T\", T)\n",
    "print(\"The whole process costs {} seconds\".format(time.time()-now))\n",
    "# plot the results\n",
    "cpd_plot(X,Y,T)"
   ]
  },
  {
   "cell_type": "markdown",
   "metadata": {},
   "source": [
    "## test affine case"
   ]
  },
  {
   "cell_type": "code",
   "execution_count": 4,
   "metadata": {
    "collapsed": false
   },
   "outputs": [],
   "source": [
    "dataPath='/cpd/datasets/cpd_data3d_face.mat'\n",
    "data=scipy.io.loadmat(dataPath)\n",
    "X=data['X']\n",
    "Y=X\n",
    "# give a random rotation matrix\n",
    "# if it is 2d dataset B = cpd_b(2)\n",
    "B = cpd_b(3)\n",
    "X=np.random.rand(1)*np.dot(X,np.transpose(B))+1\n",
    "# introduce outlier and noise\n",
    "X=X[0:-19,:]\n",
    "Y=Y[20::,:]\n",
    "# np.save(\"cpd/tests/data/affine_X\", X)\n",
    "# np.save(\"cpd/tests/data/affine_Y\", Y)"
   ]
  },
  {
   "cell_type": "code",
   "execution_count": 5,
   "metadata": {
    "collapsed": false
   },
   "outputs": [
    {
     "name": "stdout",
     "output_type": "stream",
     "text": [
      "The whole process costs 0.315999984741 seconds\n"
     ]
    }
   ],
   "source": [
    "now=time.time()\n",
    "T=cpd.register_affine(X,Y,w=0.6)\n",
    "# np.save(\"cpd/tests/data/affine_T\", T)\n",
    "print(\"The whole process costs {} seconds\".format(time.time()-now))\n",
    "# plot the results\n",
    "cpd_plot(X,Y,T)"
   ]
  },
  {
   "cell_type": "markdown",
   "metadata": {},
   "source": [
    "## test rigid case"
   ]
  },
  {
   "cell_type": "code",
   "execution_count": 6,
   "metadata": {
    "collapsed": false
   },
   "outputs": [],
   "source": [
    "dataPath = '/cpd/datasets/cpd_data3D_face.mat'\n",
    "data = scipy.io.loadmat(dataPath)\n",
    "X = data['X']\n",
    "Y = X\n",
    "# give a random orthogonal rotation matrix\n",
    "# if it is 2d dataset R = cpd_r(2)\n",
    "R = cpd_r(3)\n",
    "X = np.random.rand(1)*np.dot(X,np.transpose(R))+1\n",
    "# np.save(\"cpd/tests/data/rigid_X\", X)\n",
    "# np.save(\"cpd/tests/data/rigid_Y\", Y)"
   ]
  },
  {
   "cell_type": "code",
   "execution_count": 7,
   "metadata": {
    "collapsed": false
   },
   "outputs": [
    {
     "name": "stdout",
     "output_type": "stream",
     "text": [
      "The whole process costs 0.296000003815 seconds\n"
     ]
    }
   ],
   "source": [
    "now=time.time()\n",
    "T=cpd.register_rigid(X,Y,0.0)\n",
    "# np.save(\"cpd/tests/data/rigid_T\", T)\n",
    "print(\"The whole process costs {} seconds\".format(time.time()-now))\n",
    "# plot the results\n",
    "cpd_plot(X,Y,T)"
   ]
  },
  {
   "cell_type": "code",
   "execution_count": null,
   "metadata": {
    "collapsed": true
   },
   "outputs": [],
   "source": []
  }
 ],
 "metadata": {
  "kernelspec": {
   "display_name": "Python 3",
   "language": "python",
   "name": "python3"
  },
  "language_info": {
   "codemirror_mode": {
    "name": "ipython",
    "version": 3
   },
   "file_extension": ".py",
   "mimetype": "text/x-python",
   "name": "python",
   "nbconvert_exporter": "python",
   "pygments_lexer": "ipython3",
   "version": "3.7.0"
  }
 },
 "nbformat": 4,
 "nbformat_minor": 2
}
